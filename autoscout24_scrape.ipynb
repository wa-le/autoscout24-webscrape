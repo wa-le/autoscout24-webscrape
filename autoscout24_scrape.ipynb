{
  "nbformat": 4,
  "nbformat_minor": 0,
  "metadata": {
    "colab": {
      "provenance": [],
      "authorship_tag": "ABX9TyN6zMVKCJwAe6kMV6Zxpykg",
      "include_colab_link": true
    },
    "kernelspec": {
      "name": "python3",
      "display_name": "Python 3"
    },
    "language_info": {
      "name": "python"
    }
  },
  "cells": [
    {
      "cell_type": "markdown",
      "metadata": {
        "id": "view-in-github",
        "colab_type": "text"
      },
      "source": [
        "<a href=\"https://colab.research.google.com/github/wa-le/autoscout24-webscrape/blob/master/autoscout24_scrape.ipynb\" target=\"_parent\"><img src=\"https://colab.research.google.com/assets/colab-badge.svg\" alt=\"Open In Colab\"/></a>"
      ]
    },
    {
      "cell_type": "code",
      "execution_count": 1,
      "metadata": {
        "id": "9KXGrxiu-b1_",
        "colab": {
          "base_uri": "https://localhost:8080/",
          "height": 36
        },
        "outputId": "2ad9df1c-65f4-4f03-d639-f90bfe052f08"
      },
      "outputs": [
        {
          "output_type": "execute_result",
          "data": {
            "text/plain": [
              "'!pip install bs4\\n!pip install requests\\n!pip install pandas\\n!pip install numpy'"
            ],
            "application/vnd.google.colaboratory.intrinsic+json": {
              "type": "string"
            }
          },
          "metadata": {},
          "execution_count": 1
        }
      ],
      "source": [
        "\"\"\"!pip install bs4\n",
        "!pip install requests\n",
        "!pip install pandas\n",
        "!pip install numpy\"\"\""
      ]
    },
    {
      "cell_type": "code",
      "source": [
        "import pandas as pd\n",
        "import numpy as np\n",
        "from bs4 import BeautifulSoup\n",
        "import requests"
      ],
      "metadata": {
        "id": "f5T63rOu-fqj"
      },
      "execution_count": 2,
      "outputs": []
    },
    {
      "cell_type": "code",
      "source": [
        "HEADERS = ({'User-Agent': 'Mozilla/5.0 (Windows NT 10.0; Win64; x64) AppleWebKit/537.36 (KHTML, like Gecko) Chrome/107.0.0.0 Safari/537.36', 'Accept-Language': 'en-US, en;q=0.5'})\n"
      ],
      "metadata": {
        "id": "6Pbz1AYI-gJG"
      },
      "execution_count": 3,
      "outputs": []
    },
    {
      "cell_type": "code",
      "source": [
        "# list to store url of all cars on autoscout24.be\n",
        "all_url = []"
      ],
      "metadata": {
        "id": "MKlTBoEPMoeP"
      },
      "execution_count": 4,
      "outputs": []
    },
    {
      "cell_type": "code",
      "source": [
        "# send request to the 20 accessible pages on the website and scrape the url of each car\n",
        "# store in list -> \"all_url\"\n",
        "\n",
        "for each_page in range(1, 21):\n",
        "  webpage = requests.get(f\"https://www.autoscout24.be/nl/lst?sort=standard&desc=0&ustate=N%2CU&atype=C&cy=B&search_id=10hyyuturim&page={each_page}\", headers=HEADERS)\n",
        "  # webpage.content\n",
        "  soup = BeautifulSoup(webpage.content, \"html.parser\")\n",
        "  links = soup.find_all(\"a\", attrs={'class': 'ListItem_title__znV2I Link_link__pjU1l'})\n",
        "  for i in range(0, 20):\n",
        "    all_url.append(links[i].get(\"href\"))"
      ],
      "metadata": {
        "id": "DlA-fwDF-gXQ"
      },
      "execution_count": 5,
      "outputs": []
    },
    {
      "cell_type": "code",
      "source": [
        "# all_url now contains links to all the cars on the website\n",
        "len(all_url)"
      ],
      "metadata": {
        "colab": {
          "base_uri": "https://localhost:8080/"
        },
        "id": "R32pADu8PvYw",
        "outputId": "152d5422-a605-4b80-d23f-8459444e1338"
      },
      "execution_count": 14,
      "outputs": [
        {
          "output_type": "execute_result",
          "data": {
            "text/plain": [
              "400"
            ]
          },
          "metadata": {},
          "execution_count": 14
        }
      ]
    },
    {
      "cell_type": "code",
      "source": [
        "each_url = all_url[203]\n",
        "webpage = requests.get(f\"https://www.autoscout24.be{each_url}\", headers=HEADERS)\n",
        "soup = BeautifulSoup(webpage.content, \"html.parser\")\n"
      ],
      "metadata": {
        "id": "gDGuMIW5PvLX"
      },
      "execution_count": 118,
      "outputs": []
    },
    {
      "cell_type": "code",
      "source": [
        "name = soup.find('span', attrs={'class':'StageTitle_boldClassifiedInfo__L7JmO'}).text\n",
        "print(name)\n",
        "\n",
        "model = soup.find('span', attrs={'class':'StageTitle_model__pG_6i StageTitle_boldClassifiedInfo__L7JmO'}).text\n",
        "print(model)\n",
        "\n",
        "price = soup.find('span', attrs={'class':'StandardPrice_price__X_zzU'}).text.split(\",\")[0]\n",
        "print(price)\n",
        "\n",
        "Kilometers = soup.find_all('div', attrs={'class':'VehicleOverview_itemContainer__Ol37r'})[0].find('div', attrs={'class':'VehicleOverview_itemText__V1yKT'}).text\n",
        "print(Kilometers)\n",
        "\n",
        "transmission = soup.find_all('div', attrs={'class':'VehicleOverview_itemContainer__Ol37r'})[1].find('div', attrs={'class':'VehicleOverview_itemText__V1yKT'}).text\n",
        "print(transmission)\n",
        "\n",
        "manufactured_date = soup.find_all('div', attrs={'class':'VehicleOverview_itemContainer__Ol37r'})[2].find('div', attrs={'class':'VehicleOverview_itemText__V1yKT'}).text\n",
        "print(manufactured_date)\n",
        "\n",
        "fuel_type = soup.find_all('div', attrs={'class':'VehicleOverview_itemContainer__Ol37r'})[3].find('div', attrs={'class':'VehicleOverview_itemText__V1yKT'}).text\n",
        "print(fuel_type)\n",
        "\n",
        "power = soup.find_all('div', attrs={'class':'VehicleOverview_itemContainer__Ol37r'})[4].find('div', attrs={'class':'VehicleOverview_itemText__V1yKT'}).text\n",
        "print(power)\n",
        "\n",
        "seller = soup.find_all('div', attrs={'class':'VehicleOverview_itemContainer__Ol37r'})[5].find('div', attrs={'class':'VehicleOverview_itemText__V1yKT'}).text\n",
        "print(seller)"
      ],
      "metadata": {
        "colab": {
          "base_uri": "https://localhost:8080/"
        },
        "id": "GoKDBmIkIZKY",
        "outputId": "b2754cf5-ef00-41cc-ed67-236d1ec72157"
      },
      "execution_count": 119,
      "outputs": [
        {
          "output_type": "stream",
          "name": "stdout",
          "text": [
            "Audi \n",
            "A4\n",
            "€ 23.900\n",
            "96.000 km\n",
            "Automatisch\n",
            "08/2017\n",
            "Diesel\n",
            "110 kW (150 PK)\n",
            "Autobedrijf\n"
          ]
        }
      ]
    },
    {
      "cell_type": "code",
      "source": [
        "grab_basic_data_title = soup.find_all('div', attrs={'class':'DetailsSection_childrenSection__NQLD7'})[2].find_all('dt', attrs={'class':'DataGrid_defaultDtStyle__yzRR_'})\n",
        "basic_data_title = [j.text for j in grab_basic_data_title]\n",
        "print(basic_data_title)\n",
        "\n",
        "grab_basic_data_value = soup.find_all('div', attrs={'class':'DetailsSection_childrenSection__NQLD7'})[2].find_all('dd', attrs={'class':'DataGrid_defaultDdStyle__29SKf DataGrid_fontBold__r__dO'})\n",
        "basic_data_value = [j.text for j in grab_basic_data_value]\n",
        "print(basic_data_value)"
      ],
      "metadata": {
        "colab": {
          "base_uri": "https://localhost:8080/"
        },
        "id": "p1bvurr6HWD4",
        "outputId": "2470b3e7-d55a-4784-f37c-fdf1ab2edf4e"
      },
      "execution_count": 120,
      "outputs": [
        {
          "output_type": "stream",
          "name": "stdout",
          "text": [
            "['Carrosserietype', 'Categorie', 'Aantal stoelen', 'Deuren', 'Landversie', 'Garantie']\n",
            "['Break', 'Tweedehands', '5', '5', 'België', '12 maand']\n"
          ]
        }
      ]
    },
    {
      "cell_type": "code",
      "source": [
        "# take length of each list, know how I can iterate through both\n",
        "# have a dictionary containing all possible properties and then assign values to the ones that have"
      ],
      "metadata": {
        "id": "kISEV7CWSqED"
      },
      "execution_count": null,
      "outputs": []
    },
    {
      "cell_type": "code",
      "source": [],
      "metadata": {
        "colab": {
          "base_uri": "https://localhost:8080/",
          "height": 36
        },
        "id": "o28KNFNqZ_Oz",
        "outputId": "b6be3a37-e197-4672-986f-b31efb9c64f4"
      },
      "execution_count": 116,
      "outputs": [
        {
          "output_type": "execute_result",
          "data": {
            "text/plain": [
              "''"
            ],
            "application/vnd.google.colaboratory.intrinsic+json": {
              "type": "string"
            }
          },
          "metadata": {},
          "execution_count": 116
        }
      ]
    },
    {
      "cell_type": "code",
      "source": [],
      "metadata": {
        "id": "tmxveOVKZ_E_"
      },
      "execution_count": null,
      "outputs": []
    }
  ]
}